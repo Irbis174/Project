{
 "cells": [
  {
   "cell_type": "code",
   "execution_count": 1,
   "id": "f0b27a5c",
   "metadata": {},
   "outputs": [],
   "source": [
    "import tensorflow as tf\n",
    "from tensorflow import keras\n",
    "from tensorflow.keras import utils\n",
    "from keras.datasets import imdb\n",
    "from tensorflow.keras.preprocessing import image_dataset_from_directory\n",
    "from tensorflow.keras.layers import Dense, Flatten, Reshape, Conv2D, MaxPooling2D, BatchNormalization, Dropout\n",
    "from tensorflow.keras.preprocessing import image\n",
    "import numpy as np \n",
    "import matplotlib.pyplot as plt\n",
    "from keras.applications import vgg16\n",
    "import cv2 as cv\n",
    "import xml.etree.ElementTree as ET\n",
    "from os import listdir\n",
    "import shutil, os\n",
    "from os.path import isfile, join\n",
    "import os\n",
    "from PIL import Image"
   ]
  },
  {
   "cell_type": "code",
   "execution_count": 7,
   "id": "6788d489",
   "metadata": {},
   "outputs": [],
   "source": [
    "image_size =(244, 244)\n",
    "batch_size = 32\n",
    "seed = 142"
   ]
  },
  {
   "cell_type": "code",
   "execution_count": 12,
   "id": "05dc1675",
   "metadata": {
    "scrolled": true
   },
   "outputs": [
    {
     "name": "stdout",
     "output_type": "stream",
     "text": [
      "Found 17751 files belonging to 2 classes.\n",
      "Using 15976 files for training.\n",
      "Found 10041 files belonging to 2 classes.\n",
      "Using 1004 files for validation.\n"
     ]
    }
   ],
   "source": [
    "#обучающий датасет и датасет валидации\n",
    "train_ds = image_dataset_from_directory(directory='C:\\\\Users\\\\Matvey\\\\janedataset\\\\cars_train', validation_split=0.1, subset=\"training\", image_size=image_size, seed =seed ,batch_size= batch_size)\n",
    "valid_ds = image_dataset_from_directory(directory='C:\\\\Users\\\\Matvey\\\\janedataset\\\\cars_test', validation_split = 0.1, subset=\"validation\", image_size=image_size, seed =seed ,batch_size= batch_size)"
   ]
  },
  {
   "cell_type": "code",
   "execution_count": 29,
   "id": "8d92d35e",
   "metadata": {},
   "outputs": [
    {
     "name": "stdout",
     "output_type": "stream",
     "text": [
      "Found 4070 files belonging to 2 classes.\n"
     ]
    }
   ],
   "source": [
    "test_ds = image_dataset_from_directory(directory='test_set', image_size=image_size, seed =seed ,batch_size= batch_size)"
   ]
  },
  {
   "cell_type": "code",
   "execution_count": 14,
   "id": "475d1f02",
   "metadata": {},
   "outputs": [],
   "source": [
    "#Оптимизацияя (Используем ЦП для подгрузки изображений)\n",
    "AUTOTUNE = tf.data.experimental.AUTOTUNE\n",
    "\n",
    "train_ds = train_ds.prefetch(buffer_size=AUTOTUNE)\n",
    "valid_ds = valid_ds.prefetch(buffer_size=AUTOTUNE)\n",
    "#test_ds = test_ds.prefetch(buffer_size=AUTOTUNE)"
   ]
  },
  {
   "cell_type": "code",
   "execution_count": 22,
   "id": "54a8fd53",
   "metadata": {},
   "outputs": [],
   "source": [
    "model = keras.Sequential([\n",
    "    Conv2D(64, (3, 3), activation='relu', input_shape=(244, 244, 3), padding=\"SAME\"),  # свёрточный слой\n",
    "    MaxPooling2D((2, 2), strides=2),  # уменьшение карт признаков\n",
    "    #Dropout(0.2),  # отключение 20 процентов нейронов\n",
    "\n",
    "    Conv2D(128, (3, 3), activation='relu', padding=\"SAME\"),  # свёрточный слой\n",
    "    MaxPooling2D((2, 2), strides=2),  # уменьшение карт признаков\n",
    "    Dropout(0.2),  # отключение 20 процентов нейронов\n",
    "\n",
    "    Conv2D(256, (3, 3), activation='relu', padding=\"SAME\"),  # свёрточный слой\n",
    "    Conv2D(256, (3, 3), activation='relu', padding=\"SAME\"),  # свёрточный слой\n",
    "    MaxPooling2D((2, 2), strides=2),  # уменьшение карт признаков\n",
    "    #Dropout(0.2),  # отключение 20 процентов нейронов\n",
    "\n",
    "    Conv2D(512, (3, 3), activation='relu', padding=\"SAME\"),  # свёрточный слой\n",
    "    Conv2D(512, (3, 3), activation='relu', padding=\"SAME\"),  # свёрточный слой\n",
    "    MaxPooling2D((2, 2), strides=2),  # уменьшеи карт признаков\n",
    "    #Dropout(0.2),  # отключение 20 процентов нейронов\n",
    "\n",
    "    Conv2D(512, (3, 3), activation='relu', padding=\"SAME\"),  # свёрточный слой\n",
    "    Conv2D(512, (3, 3), activation='relu', padding=\"SAME\"),  # свёрточный слой\n",
    "    MaxPooling2D((2, 2), strides=2),  # уменьшение карт признаков\n",
    "    #Dropout(0.2),  # отключение 20 процентов нейронов\n",
    "\n",
    "    #Conv2D(512, (3, 3), activation='relu'),  # свёрточный слой\n",
    "    #MaxPooling2D((2, 2), strides=2),  # уменьшение карт признаков\n",
    "    #Dropout(0.2),  # отключение 20 процентов нейронов\n",
    "\n",
    "    Flatten(),\n",
    "    Dense(512, activation='relu'),  # обычные нейроны\n",
    "    Dropout(0.2),  # отключение 20 процентов нейронов\n",
    "    Dense(256, activation='relu'),  # обычные нейроны\n",
    "    Dropout(0.2),  # отключение 20 процентов нейронов\n",
    "    Dense(128, activation='relu'),  # обычные нейроны\n",
    "    Dropout(0.2),  # отключение 20 процентов нейронов\n",
    "    Dense(1, activation='sigmoid'),  # выходной слой\n",
    "])\n"
   ]
  },
  {
   "cell_type": "code",
   "execution_count": 23,
   "id": "45137a1e",
   "metadata": {},
   "outputs": [],
   "source": [
    "model.compile(loss='binary_crossentropy', optimizer='adam', metrics=['accuracy'])"
   ]
  },
  {
   "cell_type": "code",
   "execution_count": 24,
   "id": "3df65dfe",
   "metadata": {},
   "outputs": [
    {
     "name": "stdout",
     "output_type": "stream",
     "text": [
      "Epoch 1/30\n",
      "500/500 [==============================] - 111s 221ms/step - loss: 0.9262 - accuracy: 0.5360 - val_loss: 0.7279 - val_accuracy: 0.1942\n",
      "Epoch 2/30\n",
      "500/500 [==============================] - 117s 233ms/step - loss: 0.7049 - accuracy: 0.5479 - val_loss: 0.7645 - val_accuracy: 0.1942\n",
      "Epoch 3/30\n",
      "500/500 [==============================] - 119s 238ms/step - loss: 0.6960 - accuracy: 0.5422 - val_loss: 0.7824 - val_accuracy: 0.1942\n",
      "Epoch 4/30\n",
      "500/500 [==============================] - 118s 235ms/step - loss: 0.3660 - accuracy: 0.8327 - val_loss: 0.1790 - val_accuracy: 0.9402\n",
      "Epoch 5/30\n",
      "500/500 [==============================] - 117s 233ms/step - loss: 0.2034 - accuracy: 0.9238 - val_loss: 0.2160 - val_accuracy: 0.9263\n",
      "Epoch 6/30\n",
      "500/500 [==============================] - 117s 234ms/step - loss: 0.1868 - accuracy: 0.9350 - val_loss: 0.1672 - val_accuracy: 0.9442\n",
      "Epoch 7/30\n",
      "500/500 [==============================] - 117s 234ms/step - loss: 0.3737 - accuracy: 0.8770 - val_loss: 0.3787 - val_accuracy: 0.8357\n",
      "Epoch 8/30\n",
      "500/500 [==============================] - 117s 233ms/step - loss: 0.2604 - accuracy: 0.9009 - val_loss: 0.1811 - val_accuracy: 0.9303\n",
      "Epoch 9/30\n",
      "500/500 [==============================] - 117s 234ms/step - loss: 0.1563 - accuracy: 0.9440 - val_loss: 0.1830 - val_accuracy: 0.9313\n",
      "Epoch 10/30\n",
      "500/500 [==============================] - 116s 232ms/step - loss: 0.1383 - accuracy: 0.9490 - val_loss: 0.1294 - val_accuracy: 0.9572\n",
      "Epoch 11/30\n",
      "500/500 [==============================] - 118s 235ms/step - loss: 0.1164 - accuracy: 0.9607 - val_loss: 0.0862 - val_accuracy: 0.9731\n",
      "Epoch 12/30\n",
      "500/500 [==============================] - 118s 236ms/step - loss: 0.0926 - accuracy: 0.9675 - val_loss: 0.1461 - val_accuracy: 0.9502\n",
      "Epoch 13/30\n",
      "500/500 [==============================] - 117s 233ms/step - loss: 0.0901 - accuracy: 0.9686 - val_loss: 0.1232 - val_accuracy: 0.9612\n",
      "Epoch 14/30\n",
      "500/500 [==============================] - 117s 234ms/step - loss: 0.0780 - accuracy: 0.9740 - val_loss: 0.1764 - val_accuracy: 0.9552\n",
      "Epoch 15/30\n",
      "500/500 [==============================] - 117s 234ms/step - loss: 0.0712 - accuracy: 0.9758 - val_loss: 0.0995 - val_accuracy: 0.9641\n",
      "Epoch 16/30\n",
      "500/500 [==============================] - 117s 234ms/step - loss: 0.0809 - accuracy: 0.9738 - val_loss: 0.0695 - val_accuracy: 0.9751\n",
      "Epoch 17/30\n",
      "500/500 [==============================] - 117s 233ms/step - loss: 0.0592 - accuracy: 0.9803 - val_loss: 0.1440 - val_accuracy: 0.9721\n",
      "Epoch 18/30\n",
      "500/500 [==============================] - 117s 234ms/step - loss: 0.0660 - accuracy: 0.9784 - val_loss: 0.0975 - val_accuracy: 0.9731\n",
      "Epoch 19/30\n",
      "500/500 [==============================] - 118s 235ms/step - loss: 0.0674 - accuracy: 0.9788 - val_loss: 0.0851 - val_accuracy: 0.9731\n",
      "Epoch 20/30\n",
      "500/500 [==============================] - 119s 236ms/step - loss: 0.0650 - accuracy: 0.9798 - val_loss: 0.0610 - val_accuracy: 0.9841\n",
      "Epoch 21/30\n",
      "500/500 [==============================] - 117s 234ms/step - loss: 0.0632 - accuracy: 0.9808 - val_loss: 0.3323 - val_accuracy: 0.9442\n",
      "Epoch 22/30\n",
      "500/500 [==============================] - 117s 234ms/step - loss: 0.0633 - accuracy: 0.9807 - val_loss: 0.0815 - val_accuracy: 0.9761\n",
      "Epoch 23/30\n",
      "500/500 [==============================] - 117s 233ms/step - loss: 0.0559 - accuracy: 0.9832 - val_loss: 0.1039 - val_accuracy: 0.9681\n",
      "Epoch 24/30\n",
      "500/500 [==============================] - 116s 232ms/step - loss: 0.0439 - accuracy: 0.9869 - val_loss: 0.1476 - val_accuracy: 0.9691\n",
      "Epoch 25/30\n",
      "500/500 [==============================] - 116s 232ms/step - loss: 0.0349 - accuracy: 0.9895 - val_loss: 0.1867 - val_accuracy: 0.9731\n",
      "Epoch 26/30\n",
      "500/500 [==============================] - 116s 231ms/step - loss: 0.0663 - accuracy: 0.9807 - val_loss: 0.1233 - val_accuracy: 0.9631\n",
      "Epoch 27/30\n",
      "500/500 [==============================] - 116s 231ms/step - loss: 0.0619 - accuracy: 0.9817 - val_loss: 0.0985 - val_accuracy: 0.9771\n",
      "Epoch 28/30\n",
      "500/500 [==============================] - 118s 235ms/step - loss: 0.0863 - accuracy: 0.9766 - val_loss: 0.0881 - val_accuracy: 0.9711\n",
      "Epoch 29/30\n",
      "500/500 [==============================] - 117s 233ms/step - loss: 0.0546 - accuracy: 0.9834 - val_loss: 0.4366 - val_accuracy: 0.9343\n",
      "Epoch 30/30\n",
      "500/500 [==============================] - 116s 231ms/step - loss: 0.2169 - accuracy: 0.9377 - val_loss: 0.1529 - val_accuracy: 0.9442\n"
     ]
    }
   ],
   "source": [
    "his = model.fit(train_ds, validation_data = valid_ds, epochs=30,  batch_size=batch_size)"
   ]
  },
  {
   "cell_type": "code",
   "execution_count": 25,
   "id": "94048c7f",
   "metadata": {},
   "outputs": [
    {
     "data": {
      "image/png": "[encoded data removed]",
      "text/plain": [
       "<Figure size 640x480 with 1 Axes>"
      ]
     },
     "metadata": {},
     "output_type": "display_data"
    }
   ],
   "source": [
    "plt.plot(his.history['accuracy'],\n",
    "         label='обучающий набор')\n",
    "plt.plot(his.history['val_accuracy'],\n",
    "         label='проверочный набор')\n",
    "plt.xlabel('Эпоха обучения')\n",
    "plt.ylabel('Доля верных ответов')\n",
    "plt.legend()\n",
    "plt.show()"
   ]
  },
  {
   "cell_type": "code",
   "execution_count": 26,
   "id": "38d542b1",
   "metadata": {},
   "outputs": [],
   "source": [
    "model.save('Jane.h5')"
   ]
  },
  {
   "cell_type": "code",
   "execution_count": 32,
   "id": "88639c3d",
   "metadata": {},
   "outputs": [
    {
     "name": "stdout",
     "output_type": "stream",
     "text": [
      "128/128 [==============================] - 10s 77ms/step - loss: 0.2396 - accuracy: 0.9268\n"
     ]
    },
    {
     "data": {
      "text/plain": [
       "[0.23964066803455353, 0.9267813563346863]"
      ]
     },
     "execution_count": 32,
     "metadata": {},
     "output_type": "execute_result"
    }
   ],
   "source": [
    "model.evaluate(test_ds)"
   ]
  }
 ],
 "metadata": {
  "kernelspec": {
   "display_name": "tfod",
   "language": "python",
   "name": "myenv"
  },
  "language_info": {
   "codemirror_mode": {
    "name": "ipython",
    "version": 3
   },
   "file_extension": ".py",
   "mimetype": "text/x-python",
   "name": "python",
   "nbconvert_exporter": "python",
   "pygments_lexer": "ipython3",
   "version": "3.9.18"
  }
 },
 "nbformat": 4,
 "nbformat_minor": 5
}
