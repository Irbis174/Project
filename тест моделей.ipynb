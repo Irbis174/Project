{
 "cells": [
  {
   "cell_type": "code",
   "execution_count": 1,
   "id": "e544be8b",
   "metadata": {},
   "outputs": [],
   "source": [
    "import cv2 as cv\n",
    "import numpy as np\n",
    "import tensorflow as tf"
   ]
  },
  {
   "cell_type": "code",
   "execution_count": 13,
   "id": "c00cfdf8",
   "metadata": {},
   "outputs": [],
   "source": [
    "# Загрузка модели\n",
    "\n",
    "model = tf.keras.models.load_model('cars_test_1.h5')"
   ]
  },
  {
   "cell_type": "code",
   "execution_count": 15,
   "id": "554808ac",
   "metadata": {},
   "outputs": [
    {
     "name": "stdout",
     "output_type": "stream",
     "text": [
      "Object detected train1\n"
     ]
    },
    {
     "data": {
      "text/plain": [
       "1.0"
      ]
     },
     "execution_count": 15,
     "metadata": {},
     "output_type": "execute_result"
    }
   ],
   "source": [
    "# Загрузка изображения для распознавания\n",
    "# img = cv.imread('DataSet_cars_test\\\\test\\\\009085_jpg.rf.dfc85baef26275a9d25409c609cf9bbb.jpg')\n",
    "img = cv.imread('DataSet_cars_test\\\\trash\\\\00Ou1gxbSxF94dCTwn6UcrqNNX3YG49180.jpg')\n",
    "\n",
    "labels = {0: 'train1', 1: 'train2'}\n",
    "# Преобразование изображения в формат, который может быть использован для обучения модели\n",
    "img = cv.cvtColor(img, cv.COLOR_BGR2RGB)\n",
    "img = cv.resize(img, (416, 416))\n",
    "img = np.expand_dims(img, axis=0)\n",
    "\n",
    "# Распознавание объекта на изображении с помощью модели\n",
    "prediction = model.predict(img)\n",
    "prediction_class = labels[np.argmax(prediction)]\n",
    "\n",
    "# Вывод результата распознавания\n",
    "if prediction[0][0] > 0.5:\n",
    "    print('Object detected', prediction_class)\n",
    "else:\n",
    "    print('Object not detected')\n",
    "    \n",
    "prediction[0][0]"
   ]
  }
 ],
 "metadata": {
  "kernelspec": {
   "display_name": "tfod",
   "language": "python",
   "name": "myenv"
  },
  "language_info": {
   "codemirror_mode": {
    "name": "ipython",
    "version": 3
   },
   "file_extension": ".py",
   "mimetype": "text/x-python",
   "name": "python",
   "nbconvert_exporter": "python",
   "pygments_lexer": "ipython3",
   "version": "3.9.18"
  }
 },
 "nbformat": 4,
 "nbformat_minor": 5
}
