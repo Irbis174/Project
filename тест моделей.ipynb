{
 "cells": [
  {
   "cell_type": "code",
   "execution_count": 12,
   "id": "e544be8b",
   "metadata": {},
   "outputs": [],
   "source": [
    "import numpy as np\n",
    "import cv2 as cv\n",
    "import tensorflow as tf\n",
    "from tensorflow.keras.models import load_model\n",
    "import PIL.Image"
   ]
  },
  {
   "cell_type": "code",
   "execution_count": 1,
   "id": "63ac993f",
   "metadata": {},
   "outputs": [],
   "source": [
    "def take(img):\n",
    "    model = load_model('cars_60_epochs.h5')\n",
    "    img = PIL.Image.open(img)\n",
    "    img = img.resize((208,208))\n",
    "    img = np.array(img) / 255\n",
    "    #img = np.expand_dims(img, axis=0)\n",
    "    img = img.reshape(1, 208,208,3)\n",
    "    return model.predict(img)\n",
    "    "
   ]
  },
  {
   "cell_type": "code",
   "execution_count": 17,
   "id": "709df123",
   "metadata": {},
   "outputs": [],
   "source": [
    "import PIL.Image\n",
    "import numpy as np\n",
    "from keras.models import load_model\n",
    "\n",
    "#model = \n",
    "def predict(name,model):\n",
    "    # функция приводит данные в надлежащий вид\n",
    "    img = PIL.Image.open(name)\n",
    "    img = img.resize((208, 208))\n",
    "    x = np.array(img)\n",
    "    x = x.reshape(1, 208, 208, 3)\n",
    "    # предсказания модели\n",
    "    return 1 - model.predict(x)[0][0]\n"
   ]
  },
  {
   "cell_type": "code",
   "execution_count": 28,
   "id": "fbe05bf6",
   "metadata": {},
   "outputs": [
    {
     "data": {
      "text/plain": [
       "2.968311309814453e-05"
      ]
     },
     "execution_count": 28,
     "metadata": {},
     "output_type": "execute_result"
    }
   ],
   "source": [
    "predict('C:\\\\Users\\\\Matvey\\\\Downloads\\\\iStock-494239087-thumb.jpg', load_model(\"cars_best.h5\"))"
   ]
  },
  {
   "cell_type": "code",
   "execution_count": 29,
   "id": "d3660538",
   "metadata": {},
   "outputs": [
    {
     "data": {
      "text/plain": [
       "0.057904601097106934"
      ]
     },
     "execution_count": 29,
     "metadata": {},
     "output_type": "execute_result"
    }
   ],
   "source": [
    "predict('C:\\\\Users\\\\Matvey\\\\Downloads\\\\iStock-494239087-thumb.jpg', load_model(\"cars_60_epochs.h5\"))"
   ]
  },
  {
   "cell_type": "code",
   "execution_count": 90,
   "id": "554808ac",
   "metadata": {},
   "outputs": [
    {
     "name": "stdout",
     "output_type": "stream",
     "text": [
      "WARNING:tensorflow:Model was constructed with shape (None, 208, 208, 3) for input KerasTensor(type_spec=TensorSpec(shape=(None, 208, 208, 3), dtype=tf.float32, name='conv2d_input'), name='conv2d_input', description=\"created by layer 'conv2d_input'\"), but it was called on an input with incompatible shape (None, 200, 200, 3).\n",
      "Object not detected\n"
     ]
    },
    {
     "data": {
      "text/plain": [
       "1.0"
      ]
     },
     "execution_count": 90,
     "metadata": {},
     "output_type": "execute_result"
    }
   ],
   "source": [
    "# Загрузка изображения для распознавания\n",
    "#img = cv.imread('DataSet_cars_test\\\\test\\\\000357_jpg.rf.b823d8d49b323a82a300795f437ce5d9.jpg')\n",
    "#img = cv.imread('DataSet_cars_train\\\\trash\\\\6no7908J0GC2jVOJIAYutAsCiCgihb7842.jpg')\n",
    "#img = cv.imread('C:\\\\Users\\\\Matvey\\\\Проект\\\\Project\\\\\\DataSet_cars_valid\\\\valid\\\\06723.jpg')\n",
    "img = cv.imread('C:\\\\Users\\\\Matvey\\\\Downloads\\\\lfc_hs901_p_red_1_new.jpg')\n",
    "labels = {1: 'cars', 0: 'trash'}\n",
    "# Преобразование изображения в формат, который может быть использован для обучения модели\n",
    "model = load_model('cars_best.h5')\n",
    "img = cv.cvtColor(img, cv.COLOR_BGR2RGB)\n",
    "img = cv.resize(img, (200, 200))\n",
    "img = np.expand_dims(img, axis=0)\n",
    "\n",
    "# Распознавание объекта на изображении с помощью модели\n",
    "prediction = model.predict(img)\n",
    "prediction_class = labels[np.argmax(prediction)]\n",
    "\n",
    "# Вывод результата распознавания\n",
    "if prediction[0][0] > 0.5:\n",
    "    print('Object detected', prediction_class)\n",
    "else:\n",
    "    print('Object not detected')\n",
    "    \n",
    "1 - prediction[0][0]"
   ]
  },
  {
   "cell_type": "code",
   "execution_count": 27,
   "id": "ac328a54",
   "metadata": {},
   "outputs": [
    {
     "name": "stdout",
     "output_type": "stream",
     "text": [
      "WARNING:tensorflow:6 out of the last 15 calls to <function Model.make_predict_function.<locals>.predict_function at 0x0000016EA63369D0> triggered tf.function retracing. Tracing is expensive and the excessive number of tracings could be due to (1) creating @tf.function repeatedly in a loop, (2) passing tensors with different shapes, (3) passing Python objects instead of tensors. For (1), please define your @tf.function outside of the loop. For (2), @tf.function has experimental_relax_shapes=True option that relaxes argument shapes that can avoid unnecessary retracing. For (3), please refer to https://www.tensorflow.org/guide/function#controlling_retracing and https://www.tensorflow.org/api_docs/python/tf/function for  more details.\n",
      "Predicted Label: car\n",
      "Predicted Probabilities: [1.]\n",
      "Prediction is correct!\n"
     ]
    }
   ],
   "source": [
    "# Загрузка предварительно обученной модели Keras\n",
    "model = keras.models.load_model('try_30.h5')\n",
    "\n",
    "# Загрузка тестового изображения с помощью OpenCV\n",
    "image = cv.imread('C:\\\\Users\\\\Matvey\\\\Downloads\\\\2.jpg')\n",
    "\n",
    "# Предобработка изображения, например, изменение размера и нормализация пикселей\n",
    "resized_image = cv.resize(image, (200, 200))  # Пример изменения размера до 224x224\n",
    "normalized_image = resized_image / 255.0  # Пример нормализации пикселей\n",
    "\n",
    "# Подготовка изображения для ввода в нейросеть\n",
    "input_image = np.expand_dims(normalized_image, axis=0)\n",
    "\n",
    "# Подача изображения на вход модели и получение предсказаний\n",
    "predictions = model.predict(input_image)\n",
    "\n",
    "# Пример вывода предсказанных классов и вероятностей\n",
    "predicted_class = np.argmax(predictions[0])\n",
    "class_names = ['car', 'trash']  # Замените на соответствующие классы вашей модели\n",
    "predicted_label = class_names[predicted_class]\n",
    "print('Predicted Label:', predicted_label)\n",
    "print('Predicted Probabilities:', predictions[0])\n",
    "\n",
    "# Сравнение с правильной меткой, если это необходимо\n",
    "true_label = 'car'  # Замените на правильную метку вашего тестового изображения\n",
    "if true_label == predicted_label:\n",
    "    print('Prediction is correct!')\n",
    "else:\n",
    "    print('Prediction is incorrect!')"
   ]
  },
  {
   "cell_type": "code",
   "execution_count": null,
   "id": "aab41983",
   "metadata": {},
   "outputs": [],
   "source": [
    "def get_video_frames(video_file, topN=50):\n",
    "    # get the video data\n",
    "    cap = cv2.VideoCapture(video_file)\n",
    "    ret, frame = cap.read()\n",
    "    video_data = []\n",
    "    while (ret):\n",
    "        video_data.append(frame)\n",
    "        ret, frame = cap.read()\n",
    "    print(\"original # frames: %d\"%(len(video_data)))\n",
    "    assert len(video_data) >= topN\n",
    "    video_data = video_data[:topN]\n",
    "    return video_data"
   ]
  }
 ],
 "metadata": {
  "kernelspec": {
   "display_name": "tfod",
   "language": "python",
   "name": "myenv"
  },
  "language_info": {
   "codemirror_mode": {
    "name": "ipython",
    "version": 3
   },
   "file_extension": ".py",
   "mimetype": "text/x-python",
   "name": "python",
   "nbconvert_exporter": "python",
   "pygments_lexer": "ipython3",
   "version": "3.9.18"
  }
 },
 "nbformat": 4,
 "nbformat_minor": 5
}
