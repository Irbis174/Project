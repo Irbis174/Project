{
 "cells": [
  {
   "cell_type": "code",
   "execution_count": 7,
   "id": "e544be8b",
   "metadata": {},
   "outputs": [],
   "source": [
    "from tensorflow.keras.preprocessing import image\n",
    "import tensorflow as tf\n",
    "import numpy as np"
   ]
  },
  {
   "cell_type": "code",
   "execution_count": 5,
   "id": "c00cfdf8",
   "metadata": {},
   "outputs": [],
   "source": [
    "model = tf.keras.models.load_model('cars_test.h5')"
   ]
  },
  {
   "cell_type": "code",
   "execution_count": 12,
   "id": "554808ac",
   "metadata": {},
   "outputs": [],
   "source": [
    "img_path = 'DataSet_cars_test\\\\trash\\\\0OPlKIuEJrcF0orVOymWzHaQtRHxm37067.jpg'\n",
    "img = image.load_img(img_path)\n",
    "img = img.resize((416,416))\n",
    "x = image.img_to_array(img)\n",
    "x = np.expand_dims(x, axis=0)"
   ]
  },
  {
   "cell_type": "code",
   "execution_count": 13,
   "id": "6aba3a96",
   "metadata": {},
   "outputs": [],
   "source": [
    "preds = model.predict(x)  "
   ]
  },
  {
   "cell_type": "code",
   "execution_count": 16,
   "id": "e69ab1a7",
   "metadata": {},
   "outputs": [
    {
     "data": {
      "text/plain": [
       "array([[1.]], dtype=float32)"
      ]
     },
     "execution_count": 16,
     "metadata": {},
     "output_type": "execute_result"
    }
   ],
   "source": [
    "preds"
   ]
  }
 ],
 "metadata": {
  "kernelspec": {
   "display_name": "tfod",
   "language": "python",
   "name": "myenv"
  },
  "language_info": {
   "codemirror_mode": {
    "name": "ipython",
    "version": 3
   },
   "file_extension": ".py",
   "mimetype": "text/x-python",
   "name": "python",
   "nbconvert_exporter": "python",
   "pygments_lexer": "ipython3",
   "version": "3.9.18"
  }
 },
 "nbformat": 4,
 "nbformat_minor": 5
}
