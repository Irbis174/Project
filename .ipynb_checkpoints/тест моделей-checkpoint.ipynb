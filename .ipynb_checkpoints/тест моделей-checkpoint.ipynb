{
 "cells": [
  {
   "cell_type": "code",
   "execution_count": 3,
   "id": "e544be8b",
   "metadata": {},
   "outputs": [],
   "source": [
    "import cv2 as cv\n",
    "import numpy as np\n",
    "import tensorflow as tf"
   ]
  },
  {
   "cell_type": "code",
   "execution_count": 4,
   "id": "c00cfdf8",
   "metadata": {},
   "outputs": [],
   "source": [
    "model = tf.keras.models.load_model('cars_test.h5')"
   ]
  },
  {
   "cell_type": "code",
   "execution_count": 12,
   "id": "554808ac",
   "metadata": {},
   "outputs": [],
   "source": [
    "\n",
    "# Загрузка модели\n",
    "\n",
    "# Загрузка изображения для распознавания\n",
    "img = cv.imread('image.jpg')\n",
    "\n",
    "# Преобразование изображения в формат, который может быть использован для обучения модели\n",
    "img = cv.cvtColor(img, cv2.COLOR_BGR2RGB)\n",
    "img = cv.resize(img, (224, 224))\n",
    "img = np.expand_dims(img, axis=0)\n",
    "\n",
    "# Распознавание объекта на изображении с помощью модели\n",
    "prediction = model.predict(img)\n",
    "\n",
    "# Вывод результата распознавания\n",
    "if prediction[0][0] > 0.5:\n",
    "    print('Object detected')\n",
    "else:\n",
    "    print('Object not detected')"
   ]
  },
  {
   "cell_type": "code",
   "execution_count": 13,
   "id": "6aba3a96",
   "metadata": {},
   "outputs": [],
   "source": [
    "preds = model.predict(x)  "
   ]
  },
  {
   "cell_type": "code",
   "execution_count": 16,
   "id": "e69ab1a7",
   "metadata": {},
   "outputs": [
    {
     "data": {
      "text/plain": [
       "array([[1.]], dtype=float32)"
      ]
     },
     "execution_count": 16,
     "metadata": {},
     "output_type": "execute_result"
    }
   ],
   "source": [
    "preds"
   ]
  }
 ],
 "metadata": {
  "kernelspec": {
   "display_name": "tfod",
   "language": "python",
   "name": "myenv"
  },
  "language_info": {
   "codemirror_mode": {
    "name": "ipython",
    "version": 3
   },
   "file_extension": ".py",
   "mimetype": "text/x-python",
   "name": "python",
   "nbconvert_exporter": "python",
   "pygments_lexer": "ipython3",
   "version": "3.9.18"
  }
 },
 "nbformat": 4,
 "nbformat_minor": 5
}
