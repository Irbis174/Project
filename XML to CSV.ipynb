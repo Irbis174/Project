{
 "cells": [
  {
   "cell_type": "code",
   "execution_count": 22,
   "id": "b6a3ebeb",
   "metadata": {},
   "outputs": [],
   "source": [
    "import xml.etree.ElementTree as ET\n",
    "from os import listdir\n",
    "from os.path import isfile, join\n",
    "import pandas as pd"
   ]
  },
  {
   "cell_type": "code",
   "execution_count": 152,
   "id": "3865d120",
   "metadata": {},
   "outputs": [],
   "source": [
    "fn = 'data/train/Accident'\n",
    "tree = ET.parse('data/train/Accident/test_28.xml')"
   ]
  },
  {
   "cell_type": "code",
   "execution_count": 100,
   "id": "171339e7",
   "metadata": {},
   "outputs": [],
   "source": [
    "root = tree.getroot()"
   ]
  },
  {
   "cell_type": "code",
   "execution_count": 130,
   "id": "ea498cf3",
   "metadata": {},
   "outputs": [
    {
     "data": {
      "text/plain": [
       "'ymin'"
      ]
     },
     "execution_count": 130,
     "metadata": {},
     "output_type": "execute_result"
    }
   ],
   "source": [
    "root[6][4][1].tag"
   ]
  },
  {
   "cell_type": "code",
   "execution_count": 153,
   "id": "90c8c9a0",
   "metadata": {},
   "outputs": [],
   "source": [
    "p = [fn + '/' + f for f in listdir(fn) if isfile(join(fn, f)) and f[-1] == 'l'] "
   ]
  },
  {
   "cell_type": "code",
   "execution_count": 154,
   "id": "0024fa32",
   "metadata": {},
   "outputs": [],
   "source": [
    "filename = []\n",
    "accidents = []\n",
    "width = []\n",
    "height = []\n",
    "xmin = []\n",
    "ymin = []\n",
    "xmax = []\n",
    "ymax = []"
   ]
  },
  {
   "cell_type": "code",
   "execution_count": 155,
   "id": "5a289451",
   "metadata": {},
   "outputs": [],
   "source": [
    "def data(p,filename, accidents,width,height,xmin,ymin,xmax,ymax):\n",
    "    for xml in p:\n",
    "        tree = ET.parse(xml) #адрес файла\n",
    "        root=tree.getroot()   #парсим\n",
    "        num_objects = len(root)-6\n",
    "        cords = []\n",
    "        w = int(root[4][0].text) #ширина x\n",
    "        h = int(root[4][1].text) #высота y\n",
    "        filename.append(xml.replace('.xml','.jpg').replace('data/train/Accident/',''))\n",
    "        width.append(w)\n",
    "        height.append(h)\n",
    "        xmin.append(root[6][4][0].text)\n",
    "        ymin.append(root[6][4][1].text)\n",
    "        xmax.append(root[6][4][2].text)\n",
    "        ymax.append(root[6][4][3].text)\n",
    "        accidents.append('accidents')\n",
    "    return filename,accidents,width,height,xmin,ymin,xmax,ymax"
   ]
  },
  {
   "cell_type": "code",
   "execution_count": 158,
   "id": "050c173b",
   "metadata": {},
   "outputs": [],
   "source": [
    "filename, accidents, width, height, xmin, ymin, xmax, ymax = data(p,filename, accidents,width,height,xmin,ymin,xmax,ymax)#,accidents,width,height)#,xmin,ymin,xmax,ymax)"
   ]
  },
  {
   "cell_type": "code",
   "execution_count": 185,
   "id": "10c04ae8",
   "metadata": {},
   "outputs": [],
   "source": [
    "df_acc = pd.DataFrame({'filename' :filename,'width': width, 'height': height, 'class': accidents,'xmin':xmin, 'ymin': ymin, 'xmax':xmax,'ymax': ymax})"
   ]
  },
  {
   "cell_type": "code",
   "execution_count": 186,
   "id": "3e565781",
   "metadata": {},
   "outputs": [
    {
     "data": {
      "text/html": [
       "<div>\n",
       "<style scoped>\n",
       "    .dataframe tbody tr th:only-of-type {\n",
       "        vertical-align: middle;\n",
       "    }\n",
       "\n",
       "    .dataframe tbody tr th {\n",
       "        vertical-align: top;\n",
       "    }\n",
       "\n",
       "    .dataframe thead th {\n",
       "        text-align: right;\n",
       "    }\n",
       "</style>\n",
       "<table border=\"1\" class=\"dataframe\">\n",
       "  <thead>\n",
       "    <tr style=\"text-align: right;\">\n",
       "      <th></th>\n",
       "      <th>filename</th>\n",
       "      <th>width</th>\n",
       "      <th>height</th>\n",
       "      <th>class</th>\n",
       "      <th>xmin</th>\n",
       "      <th>ymin</th>\n",
       "      <th>xmax</th>\n",
       "      <th>ymax</th>\n",
       "    </tr>\n",
       "  </thead>\n",
       "  <tbody>\n",
       "    <tr>\n",
       "      <th>0</th>\n",
       "      <td>test10_10.jpg</td>\n",
       "      <td>1280</td>\n",
       "      <td>720</td>\n",
       "      <td>accidents</td>\n",
       "      <td>379</td>\n",
       "      <td>329</td>\n",
       "      <td>618</td>\n",
       "      <td>570</td>\n",
       "    </tr>\n",
       "    <tr>\n",
       "      <th>1</th>\n",
       "      <td>test10_11.jpg</td>\n",
       "      <td>1280</td>\n",
       "      <td>720</td>\n",
       "      <td>accidents</td>\n",
       "      <td>352</td>\n",
       "      <td>283</td>\n",
       "      <td>667</td>\n",
       "      <td>574</td>\n",
       "    </tr>\n",
       "    <tr>\n",
       "      <th>2</th>\n",
       "      <td>test10_12.jpg</td>\n",
       "      <td>1280</td>\n",
       "      <td>720</td>\n",
       "      <td>accidents</td>\n",
       "      <td>370</td>\n",
       "      <td>262</td>\n",
       "      <td>631</td>\n",
       "      <td>544</td>\n",
       "    </tr>\n",
       "    <tr>\n",
       "      <th>3</th>\n",
       "      <td>test10_13.jpg</td>\n",
       "      <td>1280</td>\n",
       "      <td>720</td>\n",
       "      <td>accidents</td>\n",
       "      <td>337</td>\n",
       "      <td>257</td>\n",
       "      <td>622</td>\n",
       "      <td>547</td>\n",
       "    </tr>\n",
       "    <tr>\n",
       "      <th>4</th>\n",
       "      <td>test10_14.jpg</td>\n",
       "      <td>1280</td>\n",
       "      <td>720</td>\n",
       "      <td>accidents</td>\n",
       "      <td>362</td>\n",
       "      <td>261</td>\n",
       "      <td>604</td>\n",
       "      <td>505</td>\n",
       "    </tr>\n",
       "    <tr>\n",
       "      <th>...</th>\n",
       "      <td>...</td>\n",
       "      <td>...</td>\n",
       "      <td>...</td>\n",
       "      <td>...</td>\n",
       "      <td>...</td>\n",
       "      <td>...</td>\n",
       "      <td>...</td>\n",
       "      <td>...</td>\n",
       "    </tr>\n",
       "    <tr>\n",
       "      <th>457</th>\n",
       "      <td>test7_28.jpg</td>\n",
       "      <td>1280</td>\n",
       "      <td>720</td>\n",
       "      <td>accidents</td>\n",
       "      <td>813</td>\n",
       "      <td>221</td>\n",
       "      <td>1162</td>\n",
       "      <td>326</td>\n",
       "    </tr>\n",
       "    <tr>\n",
       "      <th>458</th>\n",
       "      <td>test7_30.jpg</td>\n",
       "      <td>1280</td>\n",
       "      <td>720</td>\n",
       "      <td>accidents</td>\n",
       "      <td>760</td>\n",
       "      <td>219</td>\n",
       "      <td>1132</td>\n",
       "      <td>312</td>\n",
       "    </tr>\n",
       "    <tr>\n",
       "      <th>459</th>\n",
       "      <td>test_28.jpg</td>\n",
       "      <td>1280</td>\n",
       "      <td>720</td>\n",
       "      <td>accidents</td>\n",
       "      <td>197</td>\n",
       "      <td>113</td>\n",
       "      <td>589</td>\n",
       "      <td>243</td>\n",
       "    </tr>\n",
       "    <tr>\n",
       "      <th>460</th>\n",
       "      <td>test_29.jpg</td>\n",
       "      <td>1280</td>\n",
       "      <td>720</td>\n",
       "      <td>accidents</td>\n",
       "      <td>324</td>\n",
       "      <td>119</td>\n",
       "      <td>573</td>\n",
       "      <td>262</td>\n",
       "    </tr>\n",
       "    <tr>\n",
       "      <th>461</th>\n",
       "      <td>test_30.jpg</td>\n",
       "      <td>1280</td>\n",
       "      <td>720</td>\n",
       "      <td>accidents</td>\n",
       "      <td>301</td>\n",
       "      <td>120</td>\n",
       "      <td>578</td>\n",
       "      <td>252</td>\n",
       "    </tr>\n",
       "  </tbody>\n",
       "</table>\n",
       "<p>462 rows × 8 columns</p>\n",
       "</div>"
      ],
      "text/plain": [
       "          filename  width  height      class xmin ymin  xmax ymax\n",
       "0    test10_10.jpg   1280     720  accidents  379  329   618  570\n",
       "1    test10_11.jpg   1280     720  accidents  352  283   667  574\n",
       "2    test10_12.jpg   1280     720  accidents  370  262   631  544\n",
       "3    test10_13.jpg   1280     720  accidents  337  257   622  547\n",
       "4    test10_14.jpg   1280     720  accidents  362  261   604  505\n",
       "..             ...    ...     ...        ...  ...  ...   ...  ...\n",
       "457   test7_28.jpg   1280     720  accidents  813  221  1162  326\n",
       "458   test7_30.jpg   1280     720  accidents  760  219  1132  312\n",
       "459    test_28.jpg   1280     720  accidents  197  113   589  243\n",
       "460    test_29.jpg   1280     720  accidents  324  119   573  262\n",
       "461    test_30.jpg   1280     720  accidents  301  120   578  252\n",
       "\n",
       "[462 rows x 8 columns]"
      ]
     },
     "execution_count": 186,
     "metadata": {},
     "output_type": "execute_result"
    }
   ],
   "source": [
    "df_acc"
   ]
  },
  {
   "cell_type": "code",
   "execution_count": 183,
   "id": "16dfea91",
   "metadata": {},
   "outputs": [],
   "source": [
    "df_acc = df_acc.to_csv('data/train/Accident/accidents.csv', encoding='utf-8')\n"
   ]
  }
 ],
 "metadata": {
  "kernelspec": {
   "display_name": "tfod",
   "language": "python",
   "name": "myenv"
  },
  "language_info": {
   "codemirror_mode": {
    "name": "ipython",
    "version": 3
   },
   "file_extension": ".py",
   "mimetype": "text/x-python",
   "name": "python",
   "nbconvert_exporter": "python",
   "pygments_lexer": "ipython3",
   "version": "3.9.18"
  }
 },
 "nbformat": 4,
 "nbformat_minor": 5
}
