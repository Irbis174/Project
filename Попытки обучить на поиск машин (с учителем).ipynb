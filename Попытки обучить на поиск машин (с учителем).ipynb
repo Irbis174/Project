{
 "cells": [
  {
   "cell_type": "code",
   "execution_count": 5,
   "id": "a99da545",
   "metadata": {},
   "outputs": [],
   "source": [
    "import pandas as pd\n",
    "import tensorflow as tf\n",
    "from tensorflow import keras\n",
    "from tensorflow.keras.layers import Dense, Flatten, Reshape, Conv2D, MaxPooling2D, BatchNormalization, Dropout, experimental\n",
    "import numpy as np\n",
    "import matplotlib.pyplot as plt"
   ]
  },
  {
   "cell_type": "code",
   "execution_count": 6,
   "id": "4d170e6f",
   "metadata": {},
   "outputs": [],
   "source": [
    "model = keras.Sequential([\n",
    "    Conv2D(16, (3, 3), activation='relu', input_shape=(208, 208, 3)),  # свёрточный слой\n",
    "    BatchNormalization(),\n",
    "    MaxPooling2D((2, 2), strides=2),  # уменьшение карт признаков\n",
    "\n",
    "    Conv2D(32, (3, 3), activation='relu'),\n",
    "    BatchNormalization(),\n",
    "    MaxPooling2D((2, 2), strides=2),\n",
    "\n",
    "    Conv2D(32, (3, 3), activation='relu'),\n",
    "    BatchNormalization(),\n",
    "    MaxPooling2D((2, 2), strides=2),\n",
    "    Dropout(0.2),\n",
    "\n",
    "    Conv2D(64, (3, 3), activation='relu'),\n",
    "    BatchNormalization(),\n",
    "    MaxPooling2D((2, 2), strides=2),\n",
    "    Dropout(0.2),\n",
    "\n",
    "    Conv2D(256, (3, 3), activation='relu'),\n",
    "    BatchNormalization(),\n",
    "    MaxPooling2D((2, 2), strides=2),\n",
    "    Dropout(0.2),\n",
    "\n",
    "    Flatten(),  # нормализация значения после свёрточной слоев\n",
    "    Dense(128, activation='relu'),  # обычные нейроны\n",
    "    Dropout(0.2),  # отключения 80 процентов нейронов\n",
    "    Dense(4, activation='sigmoid'),\n",
    "])"
   ]
  },
  {
   "cell_type": "code",
   "execution_count": 7,
   "id": "54144d3e",
   "metadata": {},
   "outputs": [],
   "source": [
    "def data():\n",
    "    x = []\n",
    "    y = []\n",
    "    df = pd.read_csv('_annotations.csv') \n",
    "    for i in range(len(df)):\n",
    "        image_id = df['filename'][i]\n",
    "        xMin_coord = df['xmin'][i] // 2\n",
    "        yMin_coord = df['ymin'][i] // 2\n",
    "        xMax_coord = df['xmax'][i] // 2\n",
    "        yMax_coord = df['ymax'][i] // 2\n",
    "        image_id = keras.utils.load_img(image_id, target_size=image_size)\n",
    "        coordinates = [xMin_coord, yMin_coord, xMax_coord, yMax_coord]\n",
    "        x.append(np.expand_dims(image_id, axis = 0))\n",
    "        y.append(coordinates)\n",
    "    return x,y"
   ]
  },
  {
   "cell_type": "code",
   "execution_count": 8,
   "id": "c803993b",
   "metadata": {},
   "outputs": [],
   "source": [
    "def arr(x,y):\n",
    "    return np.asarray(x),np.asarray(y)"
   ]
  },
  {
   "cell_type": "code",
   "execution_count": 9,
   "id": "82e46c43",
   "metadata": {},
   "outputs": [],
   "source": [
    "def data_set(x,y):\n",
    "    return tf.data.Dataset.from_tensor_slices((x,y))"
   ]
  },
  {
   "cell_type": "code",
   "execution_count": 10,
   "id": "54616511",
   "metadata": {},
   "outputs": [
    {
     "data": {
      "text/plain": [
       "'C:\\\\Users\\\\Matvey\\\\Проект\\\\Project'"
      ]
     },
     "execution_count": 10,
     "metadata": {},
     "output_type": "execute_result"
    }
   ],
   "source": [
    "pwd"
   ]
  },
  {
   "cell_type": "code",
   "execution_count": 11,
   "id": "51b94887",
   "metadata": {},
   "outputs": [],
   "source": [
    "image_size=(208, 208)\n",
    "batch_size= 32"
   ]
  },
  {
   "cell_type": "code",
   "execution_count": 12,
   "id": "57b3890a",
   "metadata": {},
   "outputs": [
    {
     "name": "stdout",
     "output_type": "stream",
     "text": [
      "C:\\Users\\Matvey\\Проект\\Project\\DataSet_cars_train\\train\n",
      "C:\\Users\\Matvey\\Проект\\Project\n",
      "C:\\Users\\Matvey\\Проект\\Project\\DataSet_cars_valid\\valid\n"
     ]
    }
   ],
   "source": [
    "%cd DataSet_cars_train/train\n",
    "x_train, y_train = data()\n",
    "%cd ../..\n",
    "%cd DataSet_cars_valid/valid\n",
    "x_valid, y_valid = data()"
   ]
  },
  {
   "cell_type": "code",
   "execution_count": 9,
   "id": "187b5c5c",
   "metadata": {},
   "outputs": [
    {
     "data": {
      "text/plain": [
       "'C:\\\\Users\\\\Matvey\\\\Проект\\\\Project\\\\DataSet_cars_valid\\\\valid'"
      ]
     },
     "execution_count": 9,
     "metadata": {},
     "output_type": "execute_result"
    }
   ],
   "source": [
    "pwd"
   ]
  },
  {
   "cell_type": "code",
   "execution_count": 10,
   "id": "8f89a4bc",
   "metadata": {},
   "outputs": [],
   "source": [
    "x_train, y_train = arr(x_train, y_train)\n",
    "x_valid, y_valid = arr(x_valid, y_valid)"
   ]
  },
  {
   "cell_type": "code",
   "execution_count": 4,
   "id": "764d0a0a",
   "metadata": {},
   "outputs": [
    {
     "ename": "NameError",
     "evalue": "name 'x_train' is not defined",
     "output_type": "error",
     "traceback": [
      "\u001b[1;31m---------------------------------------------------------------------------\u001b[0m",
      "\u001b[1;31mNameError\u001b[0m                                 Traceback (most recent call last)",
      "Cell \u001b[1;32mIn[4], line 1\u001b[0m\n\u001b[1;32m----> 1\u001b[0m \u001b[43mx_train\u001b[49m\n",
      "\u001b[1;31mNameError\u001b[0m: name 'x_train' is not defined"
     ]
    }
   ],
   "source": [
    "x_train"
   ]
  },
  {
   "cell_type": "code",
   "execution_count": null,
   "id": "46d377fd",
   "metadata": {},
   "outputs": [],
   "source": [
    "y_train"
   ]
  },
  {
   "cell_type": "code",
   "execution_count": 11,
   "id": "218e5a8c",
   "metadata": {},
   "outputs": [],
   "source": [
    "train_dataset = data_set(x_train, y_train)"
   ]
  },
  {
   "cell_type": "code",
   "execution_count": 1,
   "id": "b5381a98",
   "metadata": {},
   "outputs": [
    {
     "ename": "NameError",
     "evalue": "name 'data_set' is not defined",
     "output_type": "error",
     "traceback": [
      "\u001b[1;31m---------------------------------------------------------------------------\u001b[0m",
      "\u001b[1;31mNameError\u001b[0m                                 Traceback (most recent call last)",
      "Cell \u001b[1;32mIn[1], line 1\u001b[0m\n\u001b[1;32m----> 1\u001b[0m val_dataset \u001b[38;5;241m=\u001b[39m \u001b[43mdata_set\u001b[49m(x_valid, y_valid)\n",
      "\u001b[1;31mNameError\u001b[0m: name 'data_set' is not defined"
     ]
    }
   ],
   "source": [
    "val_dataset = data_set(x_valid, y_valid)"
   ]
  },
  {
   "cell_type": "code",
   "execution_count": 42,
   "id": "a2a28b39",
   "metadata": {},
   "outputs": [],
   "source": [
    "model.compile(optimizer='adam',\n",
    "              loss='mse',\n",
    "              metrics=['mae'])"
   ]
  },
  {
   "cell_type": "code",
   "execution_count": 39,
   "id": "389a1162",
   "metadata": {},
   "outputs": [
    {
     "data": {
      "text/plain": [
       "<keras.engine.sequential.Sequential at 0x229b6683a60>"
      ]
     },
     "execution_count": 39,
     "metadata": {},
     "output_type": "execute_result"
    }
   ],
   "source": [
    "model"
   ]
  },
  {
   "cell_type": "code",
   "execution_count": 40,
   "id": "0a81bb21",
   "metadata": {},
   "outputs": [
    {
     "data": {
      "text/plain": [
       "<TensorSliceDataset shapes: ((1, 200, 200, 3), (2, 2)), types: (tf.uint8, tf.int32)>"
      ]
     },
     "execution_count": 40,
     "metadata": {},
     "output_type": "execute_result"
    }
   ],
   "source": [
    "train_dataset"
   ]
  },
  {
   "cell_type": "code",
   "execution_count": 41,
   "id": "45b9bbde",
   "metadata": {},
   "outputs": [
    {
     "data": {
      "text/plain": [
       "<TensorSliceDataset shapes: ((1, 200, 200, 3), (2, 2)), types: (tf.uint8, tf.int32)>"
      ]
     },
     "execution_count": 41,
     "metadata": {},
     "output_type": "execute_result"
    }
   ],
   "source": [
    "val_dataset"
   ]
  },
  {
   "cell_type": "code",
   "execution_count": 26,
   "id": "4d26a5d9",
   "metadata": {},
   "outputs": [
    {
     "data": {
      "text/plain": [
       "32"
      ]
     },
     "execution_count": 26,
     "metadata": {},
     "output_type": "execute_result"
    }
   ],
   "source": [
    "batch_size"
   ]
  },
  {
   "cell_type": "code",
   "execution_count": 3,
   "id": "159c2d31",
   "metadata": {},
   "outputs": [
    {
     "ename": "NameError",
     "evalue": "name 'train_dataset' is not defined",
     "output_type": "error",
     "traceback": [
      "\u001b[1;31m---------------------------------------------------------------------------\u001b[0m",
      "\u001b[1;31mNameError\u001b[0m                                 Traceback (most recent call last)",
      "Cell \u001b[1;32mIn[3], line 1\u001b[0m\n\u001b[1;32m----> 1\u001b[0m his \u001b[38;5;241m=\u001b[39m model\u001b[38;5;241m.\u001b[39mfit(\u001b[43mtrain_dataset\u001b[49m, validation_data \u001b[38;5;241m=\u001b[39m val_dataset, epochs\u001b[38;5;241m=\u001b[39m\u001b[38;5;241m10\u001b[39m, batch_size\u001b[38;5;241m=\u001b[39m\u001b[38;5;241m32\u001b[39m)\n",
      "\u001b[1;31mNameError\u001b[0m: name 'train_dataset' is not defined"
     ]
    }
   ],
   "source": [
    "his = model.fit(train_dataset, validation_data = val_dataset, epochs=10, batch_size=32)"
   ]
  },
  {
   "cell_type": "code",
   "execution_count": 144,
   "id": "07d9a8a2",
   "metadata": {},
   "outputs": [
    {
     "data": {
      "text/plain": [
       "<matplotlib.legend.Legend at 0x2188d6ec9d0>"
      ]
     },
     "execution_count": 144,
     "metadata": {},
     "output_type": "execute_result"
    },
    {
     "data": {
      "image/png": "[encoded data removed]",
      "text/plain": [
       "<Figure size 640x480 with 1 Axes>"
      ]
     },
     "metadata": {},
     "output_type": "display_data"
    }
   ],
   "source": [
    "plt.plot(his.history['mae'],\n",
    "         label='Доля верных ответов на обучающем наборе')\n",
    "plt.plot(his.history['val_mae'],\n",
    "         label='Доля верных ответов на проверочном наборе')\n",
    "plt.xlabel('Эпоха обучения')\n",
    "plt.ylabel('Доля верных ответов')\n",
    "plt.legend()"
   ]
  },
  {
   "cell_type": "code",
   "execution_count": null,
   "id": "1dc433dd",
   "metadata": {},
   "outputs": [],
   "source": []
  },
  {
   "cell_type": "code",
   "execution_count": null,
   "id": "5ec2246f",
   "metadata": {},
   "outputs": [],
   "source": [
    "model.save('mae.h5')"
   ]
  }
 ],
 "metadata": {
  "kernelspec": {
   "display_name": "tfod",
   "language": "python",
   "name": "myenv"
  },
  "language_info": {
   "codemirror_mode": {
    "name": "ipython",
    "version": 3
   },
   "file_extension": ".py",
   "mimetype": "text/x-python",
   "name": "python",
   "nbconvert_exporter": "python",
   "pygments_lexer": "ipython3",
   "version": "3.9.18"
  }
 },
 "nbformat": 4,
 "nbformat_minor": 5
}
